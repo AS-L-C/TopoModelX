{
 "cells": [
  {
   "cell_type": "markdown",
   "metadata": {},
   "source": [
    "# Train a Simplicial 2-complex convolutional neural network (SCConv)\n",
    "\n",
    "\n",
    "In this notebook, we will create and train a Simplicial 2-complex convolutional neural in the simplicial complex domain, as proposed in the paper by [Bunch et. al : Simplicial 2-Complex Convolutional Neural Networks (2020)](https://openreview.net/pdf?id=Sc8glB-k6e9).\n",
    "\n",
    "\n",
    "We train the model to perform\n",
    "\n",
    "The equations of one layer of this neural network are given by:\n",
    "\n",
    "🟥 $\\quad m_{y\\rightarrow x}^{(0\\rightarrow 0)} = ({\\tilde{A}_{\\uparrow,0}})_{xy} \\cdot h_y^{t,(0)} \\cdot \\Theta^{t,(0\\rightarrow0)}$\n",
    "\n",
    "🟥 $\\quad m^{(1\\rightarrow0)}_{y\\rightarrow x}  = (B_1)_{xy} \\cdot h_y^{t,(0)} \\cdot \\Theta^{t,(1\\rightarrow 0)}$\n",
    "\n",
    "🟥 $\\quad m^{(0 \\rightarrow 1)}_{y \\rightarrow x}  = (\\tilde B_1)_{xy} \\cdot h_y^{t,(0)} \\cdot \\Theta^{t,(0 \\rightarrow1)}$\n",
    "\n",
    "🟥 $\\quad m^{(1\\rightarrow1)}_{y\\rightarrow x} = ({\\tilde{A}_{\\downarrow,1}} + {\\tilde{A}_{\\uparrow,1}})_{xy} \\cdot h_y^{t,(1)} \\cdot \\Theta^{t,(1\\rightarrow1)}$\n",
    "\n",
    "🟥 $\\quad m^{(2\\rightarrow1)}_{y \\rightarrow x}  = (B_2)_{xy} \\cdot h_y^{t,(2)} \\cdot \\Theta^{t,(2 \\rightarrow1)}$\n",
    "\n",
    "🟥 $\\quad m^{(1 \\rightarrow 2)}_{y \\rightarrow x}  = (\\tilde B_2)_{xy} \\cdot h_y^{t,(1)} \\cdot \\Theta^{t,(1 \\rightarrow 2)}$\n",
    "\n",
    "🟥 $\\quad m^{(2 \\rightarrow 2)}_{y \\rightarrow x}  = ({\\tilde{A}_{\\downarrow,2}})\\_{xy} \\cdot h_y^{t,(2)} \\cdot \\Theta^{t,(2 \\rightarrow 2)}$\n",
    "\n",
    "🟧 $\\quad m_x^{(0 \\rightarrow 0)}  = \\sum_{y \\in \\mathcal{L}_\\uparrow(x)} m_{y \\rightarrow x}^{(0 \\rightarrow 0)}$\n",
    "\n",
    "🟧 $\\quad m_x^{(1 \\rightarrow 0)}  = \\sum_{y \\in \\mathcal{C}(x)} m_{y \\rightarrow x}^{(1 \\rightarrow 0)}$\n",
    "\n",
    "🟧 $\\quad m_x^{(0 \\rightarrow 1)}  = \\sum_{y \\in \\mathcal{B}(x)} m_{y \\rightarrow x}^{(0 \\rightarrow 1)}$\n",
    "\n",
    "🟧 $\\quad m_x^{(1 \\rightarrow 1)}  = \\sum_{y \\in (\\mathcal{L}_\\uparrow(x) + \\mathcal{L}_\\downarrow(x))} m_{y \\rightarrow x}^{(1 \\rightarrow 1)}$\n",
    "\n",
    "🟧 $\\quad m_x^{(2 \\rightarrow 1)} = \\sum_{y \\in \\mathcal{C}(x)} m_{y \\rightarrow x}^{(2 \\rightarrow 1)}$\n",
    "\n",
    "🟧 $\\quad m_x^{(1 \\rightarrow 2)}  = \\sum_{y \\in \\mathcal{B}(x)} m_{y \\rightarrow x}^{(1 \\rightarrow 2)}$\n",
    "\n",
    "🟧 $\\quad m_x^{(2 \\rightarrow 2)}  = \\sum_{y \\in \\mathcal{L}_\\downarrow(x)} m_{y \\rightarrow x}^{(2 \\rightarrow 2)}$\n",
    "\n",
    "🟩 $\\quad m_x^{(0)}  = m_x^{(1\\rightarrow0)}+ m_x^{(0\\rightarrow0)}$\n",
    "\n",
    "🟩 $\\quad m_x^{(1)}  = m_x^{(2\\rightarrow1)}+ m_x^{(1\\rightarrow1)}$\n",
    "\n",
    "🟦 $\\quad h^{t+1, (0)}_x  = \\sigma(m_x^{(0)})$\n",
    "\n",
    "🟦 $\\quad h^{t+1, (1)}_x  = \\sigma(m_x^{(1)})$\n",
    "\n",
    "🟦 $\\quad h^{t+1, (2)}_x  = \\sigma(m_x^{(2)})$\n",
    "\n",
    "\n",
    "Where the notations are defined in [Papillon et al : Architectures of Topological Deep Learning: A Survey of Topological Neural Networks (2023)](https://arxiv.org/abs/2304.10031)."
   ]
  },
  {
   "cell_type": "code",
   "execution_count": 88,
   "metadata": {
    "ExecuteTime": {
     "end_time": "2023-07-13T21:25:05.855341389Z",
     "start_time": "2023-07-13T21:25:05.807826031Z"
    }
   },
   "outputs": [],
   "source": [
    "import torch\n",
    "import numpy as np\n",
    "\n",
    "from toponetx import SimplicialComplex\n",
    "import toponetx.datasets.graph as graph\n",
    "import toponetx.datasets as datasets\n",
    "\n",
    "from scipy.sparse import coo_matrix\n",
    "from scipy.sparse import diags\n",
    "\n",
    "from topomodelx.base.aggregation import Aggregation\n",
    "\n",
    "\n",
    "\n",
    "# from topomodelx.nn.simplicial.scconv_layer import SCConvLayer"
   ]
  },
  {
   "cell_type": "markdown",
   "metadata": {},
   "source": [
    "# Pre-processing\n",
    "\n",
    "## Import dataset ##\n",
    "\n",
    "The first step is to import the dataset, shrec 16, a benchmark dataset for 3D mesh classification."
   ]
  },
  {
   "cell_type": "code",
   "execution_count": 3,
   "metadata": {
    "ExecuteTime": {
     "end_time": "2023-06-26T04:25:01.902814606Z",
     "start_time": "2023-06-26T04:25:00.067431655Z"
    }
   },
   "outputs": [
    {
     "name": "stdout",
     "output_type": "stream",
     "text": [
      "Loading shrec 16 small dataset...\n",
      "\n",
      "done!\n"
     ]
    }
   ],
   "source": [
    "shrec, _ = datasets.mesh.shrec_16(size=\"small\")\n",
    "\n",
    "shrec = {key: np.array(value) for key, value in shrec.items()}\n",
    "x_0s = shrec[\"node_feat\"]\n",
    "x_1s = shrec[\"edge_feat\"]\n",
    "x_2s = shrec[\"face_feat\"]\n",
    "\n",
    "ys = shrec[\"label\"]\n",
    "simplexes = shrec[\"complexes\"]"
   ]
  },
  {
   "cell_type": "code",
   "execution_count": 61,
   "outputs": [
    {
     "name": "stdout",
     "output_type": "stream",
     "text": [
      "(array([ 0,  1,  2,  3,  4,  5,  6,  7,  8,  9, 10, 11, 12, 13, 14, 15, 16,\n",
      "       17, 18, 19, 20, 21, 22, 23, 24, 25, 26, 27, 28, 29]), array([1, 1, 4, 4, 5, 3, 2, 3, 3, 4, 4, 2, 3, 6, 1, 1, 3, 1, 4, 4, 7, 4,\n",
      "       3, 1, 6, 1, 4, 5, 6, 4]))\n"
     ]
    }
   ],
   "source": [
    "# l = np.unique(ys, return_counts=True)\n",
    "# print(l)\n"
   ],
   "metadata": {
    "collapsed": false,
    "ExecuteTime": {
     "end_time": "2023-07-13T03:09:42.247811528Z",
     "start_time": "2023-07-13T03:09:42.240615289Z"
    }
   }
  },
  {
   "cell_type": "code",
   "execution_count": 4,
   "outputs": [
    {
     "name": "stdout",
     "output_type": "stream",
     "text": [
      "The 0th simplicial complex has 252 nodes with features of dimension 6.\n",
      "The 0th simplicial complex has 750 edges with features of dimension 10.\n",
      "The 0th simplicial complex has 500 faces with features of dimension 7.\n"
     ]
    }
   ],
   "source": [
    "i_complex = 0\n",
    "print(\n",
    "    f\"The {i_complex}th simplicial complex has {x_0s[i_complex].shape[0]} nodes with features of dimension {x_0s[i_complex].shape[1]}.\"\n",
    ")\n",
    "print(\n",
    "    f\"The {i_complex}th simplicial complex has {x_1s[i_complex].shape[0]} edges with features of dimension {x_1s[i_complex].shape[1]}.\"\n",
    ")\n",
    "print(\n",
    "    f\"The {i_complex}th simplicial complex has {x_2s[i_complex].shape[0]} faces with features of dimension {x_2s[i_complex].shape[1]}.\"\n",
    ")"
   ],
   "metadata": {
    "collapsed": false,
    "ExecuteTime": {
     "end_time": "2023-06-26T04:25:05.161535039Z",
     "start_time": "2023-06-26T04:25:05.142961595Z"
    }
   }
  },
  {
   "cell_type": "markdown",
   "metadata": {},
   "source": [
    "## Helper functions ##\n"
   ]
  },
  {
   "cell_type": "code",
   "execution_count": 27,
   "outputs": [],
   "source": [
    "def normalize_higher_order_adj(A_opt):\n",
    "    \"\"\"\n",
    "    Args:\n",
    "        A_opt is an opt that maps a j-cochain to a k-cochain.\n",
    "        shape [num_of_k_simplices num_of_j_simplices]\n",
    "\n",
    "    return:\n",
    "         D^{-0.5}* (A_opt)* D^{-0.5}.\n",
    "    \"\"\"\n",
    "    rowsum = np.array(np.abs(A_opt).sum(1))\n",
    "    r_inv_sqrt = np.power(rowsum, -0.5).flatten()\n",
    "    r_inv_sqrt[np.isinf(r_inv_sqrt)] = 0.0\n",
    "    r_mat_inv_sqrt = diags(r_inv_sqrt)\n",
    "    A_opt_to = A_opt.dot(r_mat_inv_sqrt).transpose().dot(r_mat_inv_sqrt)\n",
    "\n",
    "    return coo_matrix(A_opt_to)\n"
   ],
   "metadata": {
    "collapsed": false
   }
  },
  {
   "cell_type": "code",
   "execution_count": 45,
   "outputs": [],
   "source": [],
   "metadata": {
    "collapsed": false,
    "ExecuteTime": {
     "end_time": "2023-07-09T14:30:08.309300865Z",
     "start_time": "2023-07-09T14:30:05.378291670Z"
    }
   }
  },
  {
   "cell_type": "code",
   "execution_count": 19,
   "outputs": [],
   "source": [
    "# incidence_1_list"
   ],
   "metadata": {
    "collapsed": false,
    "ExecuteTime": {
     "end_time": "2023-06-26T04:54:56.698762101Z",
     "start_time": "2023-06-26T04:54:56.690271544Z"
    }
   }
  },
  {
   "cell_type": "code",
   "execution_count": 43,
   "metadata": {
    "ExecuteTime": {
     "end_time": "2023-07-09T09:06:50.412427908Z",
     "start_time": "2023-07-09T09:06:50.361595391Z"
    }
   },
   "outputs": [
    {
     "name": "stdout",
     "output_type": "stream",
     "text": [
      "(750, 750)\n",
      "(750, 750)\n"
     ]
    }
   ],
   "source": [
    "adjacency_1 = simplexes[13].adjacency_matrix(rank=1, signed=False)\n",
    "incidence_1 = simplexes[13].incidence_matrix(rank=1, signed=False)\n",
    "\n",
    "# k = normalize_higher_order_adj(adjacency_1)\n",
    "# print(k)\n",
    "\n",
    "print(adjacency_1.todense().shape)\n",
    "k = normalize_higher_order_adj(adjacency_1)\n",
    "print(k.todense().shape)\n"
   ]
  },
  {
   "cell_type": "markdown",
   "source": [
    "# Define Neighbourhood Structures\n",
    "\n",
    "We create the neigborood structures expected by SSConv. The SSConv layer expects the following neighbourhood structures:\n",
    "* incidence_1 $B_1$\n",
    "* incidence_1_norm $\\tilde{B}_1$\n",
    "* incidence_2 $B_2$\n",
    "* incidence_2_norm $\\tilde{B}_1$\n",
    "* adjacency_up_0_norm $\\tilde{A}_{\\uparrow,0}$\n",
    "* adjacency_up_1_norm $\\tilde{A}_{\\uparrow,1}$\n",
    "* adjacency_down_1_norm $\\tilde{A}_{\\downarrow,1}$\n",
    "* adjacency_down_2_norm $\\tilde{A}_{\\downarrow,2}$"
   ],
   "metadata": {
    "collapsed": false
   }
  },
  {
   "cell_type": "code",
   "execution_count": 87,
   "outputs": [],
   "source": [
    "def get_neighborhoods(simplexes):\n",
    "    incidence_1_list = []\n",
    "    incidence_2_list = []\n",
    "    up_laplacian_1_list = []\n",
    "    up_laplacian_2_list = []\n",
    "    down_laplacian_1_list = []\n",
    "    down_laplacian_2_list = []\n",
    "    for simplex in simplexes:\n",
    "        B1 = simplex.incidence_matrix(rank=1, signed=False)\n",
    "        B2 = simplex.incidence_matrix(rank=2, signed=False)\n",
    "\n",
    "        up_laplacian_1 = simplex.up_laplacian_matrix(rank=0)  #1\n",
    "        up_laplacian_2 = simplex.up_laplacian_matrix(rank=1)  #2\n",
    "\n",
    "        down_laplacian_1 = simplex.down_laplacian_matrix(rank=1)  #1\n",
    "        down_laplacian_2 = simplex.down_laplacian_matrix(rank=2)  #2\n",
    "\n",
    "        incidence_1 = torch.from_numpy(B1.todense()).to_sparse()\n",
    "        incidence_2 = torch.from_numpy(B2.todense()).to_sparse()\n",
    "\n",
    "        up_laplacian_1 = torch.from_numpy(up_laplacian_1.todense()).to_sparse()\n",
    "        up_laplacian_2 = torch.from_numpy(up_laplacian_2.todense()).to_sparse()\n",
    "\n",
    "        down_laplacian_1 = torch.from_numpy(down_laplacian_1.todense()).to_sparse()\n",
    "        down_laplacian_2 = torch.from_numpy(down_laplacian_2.todense()).to_sparse()\n",
    "\n",
    "        incidence_1_list.append(incidence_1)\n",
    "        incidence_2_list.append(incidence_2)\n",
    "        up_laplacian_1_list.append(up_laplacian_1)\n",
    "        up_laplacian_2_list.append(up_laplacian_2)\n",
    "        down_laplacian_1_list.append(down_laplacian_1)\n",
    "        down_laplacian_2_list.append(down_laplacian_2)\n",
    "\n",
    "    return incidence_1_list, incidence_2_list, up_laplacian_1_list, up_laplacian_2_list, down_laplacian_1_list, down_laplacian_2_list\n",
    "\n",
    "\n",
    "incidence_1_list, incidence_2_list, up_laplacian_1_list, up_laplacian_2_list, down_laplacian_1_list, down_laplacian_2_list = get_neighborhoods(\n",
    "    simplexes)"
   ],
   "metadata": {
    "collapsed": false,
    "ExecuteTime": {
     "end_time": "2023-07-13T21:08:40.392445158Z",
     "start_time": "2023-07-13T21:08:37.322239623Z"
    }
   }
  },
  {
   "cell_type": "markdown",
   "metadata": {},
   "source": [
    "# Create the Neural Network\n",
    "\n",
    "Using the SSConv class, we create a neural network with stacked layers."
   ]
  },
  {
   "cell_type": "code",
   "execution_count": 91,
   "metadata": {
    "ExecuteTime": {
     "end_time": "2023-07-13T21:46:12.791289721Z",
     "start_time": "2023-07-13T21:46:12.750935614Z"
    }
   },
   "outputs": [],
   "source": [
    "class SCConv(torch.nn.Module):\n",
    "    \"\"\"Simplicial 2-Complex Convolutional Network Implementation for binary node classification.\n",
    "\n",
    "    Parameters\n",
    "    ---------\n",
    "    node_channels : int\n",
    "        Dimension of node (0-cells) features\n",
    "    edge_channels : int\n",
    "        Dimension of edge (1-cells) features\n",
    "    face_channels : int\n",
    "        Dimension of face (2-cells) features\n",
    "    n_layers : int\n",
    "        Number of message passing layers.\n",
    "    n_classes : int\n",
    "        Number of classes.\n",
    "    update_func : str\n",
    "        Activation function used in aggregation layers.\n",
    "\n",
    "    \"\"\"\n",
    "\n",
    "    def __init__(self, node_channels, edge_channels, face_channels, n_classes, n_layers=2):\n",
    "        super().__init__()\n",
    "        self.node_channels = node_channels\n",
    "        self.edge_channels = edge_channels\n",
    "        self.face_channels = face_channels\n",
    "        self.n_classes = n_classes\n",
    "\n",
    "\n",
    "        layers = []\n",
    "        for _ in range(n_layers):\n",
    "            layers.append(\n",
    "                SCConv(\n",
    "                    node_channels=node_channels,\n",
    "                    edge_channels=edge_channels,\n",
    "                    face_channels=face_channels\n",
    "                )\n",
    "            )\n",
    "\n",
    "        self.layers = torch.nn.ModuleList(layers)\n",
    "        self.linear_x0 = torch.nn.Linear(node_channels, self.n_classes)\n",
    "        self.linear_x1 = torch.nn.Linear(edge_channels, self.n_classes)\n",
    "        self.linear_x2 = torch.nn.Linear(face_channels, self.n_classes)\n",
    "        self.aggr = Aggregation(\n",
    "            aggr_func=\"mean\",\n",
    "            update_func=\"sigmoid\",\n",
    "        )\n",
    "\n",
    "    def forward(self,\n",
    "                x_0,\n",
    "                x_1,\n",
    "                x_2,\n",
    "                incidence_1,\n",
    "                incidence_1_norm,\n",
    "                incidence_2,\n",
    "                incidence_2_norm,\n",
    "                adjacency_up_0_norm,\n",
    "                adjacency_up_1_norm,\n",
    "                adjacency_down_1_norm,\n",
    "                adjacency_down_2_norm):\n",
    "        \"\"\"Forward computation.\n",
    "\n",
    "        Parameters\n",
    "        ----------\n",
    "        x_0: torch.Tensor, shape=[n_nodes, node_channels]\n",
    "            Input features on the nodes of the simplicial complex.\n",
    "        x_1: torch.Tensor, shape=[n_edges, edge_channels]\n",
    "            Input features on the edges of the simplicial complex.\n",
    "        x_2: torch.Tensor, shape=[n_faces, face_channels]\n",
    "            Input features on the faces of the simplicial complex.\n",
    "        incidence_1: torch.Tensor, shape=[n_faces, channels]\n",
    "            incidence matrix of rank 1 :math:`B_1`.\n",
    "        incidence_1_norm: torch.Tensor,\n",
    "            normalized incidence matrix of rank 1 :math:`B^{~}_1`.\n",
    "        incidence_2: torch.Tensor,\n",
    "             incidence matrix of rank 2 :math:`B_2`.\n",
    "        incidence_2_norm: torch.Tensor,\n",
    "            normalized incidence matrix of rank 2 :math:`B^{~}_2`.\n",
    "        adjacency_up_0_norm: torch.Tensor,\n",
    "            normalized upper adjacency matrix of rank 0.\n",
    "        adjacency_up_1_norm: torch.Tensor,\n",
    "            normalized upper adjacency matrix of rank 1.\n",
    "        adjacency_down_1_norm: torch.Tensor,\n",
    "            normalized down adjacency matrix of rank 1.\n",
    "        adjacency_down_2_norm: torch.Tensor,\n",
    "            normalized down adjacency matrix of rank 2.\n",
    "\n",
    "        Returns\n",
    "        --------\n",
    "        _ : tensor, shape = [1]\n",
    "            Label assigned to whole complex.\n",
    "\n",
    "        \"\"\"\n",
    "\n",
    "        for i in range(self.n_layers):\n",
    "            x_0, x_1, x_2 = self.layers[i](x_0,\n",
    "                                           x_1,\n",
    "                                           x_2,\n",
    "                                           incidence_1,\n",
    "                                           incidence_1_norm,\n",
    "                                           incidence_2,\n",
    "                                           incidence_2_norm,\n",
    "                                           adjacency_up_0_norm,\n",
    "                                           adjacency_up_1_norm,\n",
    "                                           adjacency_down_1_norm,\n",
    "                                           adjacency_down_2_norm)\n",
    "\n",
    "        x_0 = self.linear_x0(x_0)\n",
    "        x_1 = self.linear_x1(x_1)\n",
    "        x_2 = self.linear_x2(x_2)\n",
    "\n",
    "        node_mean = torch.nanmean(x_0, dim=0)\n",
    "        node_mean[torch.isnan(node_mean)] = 0\n",
    "\n",
    "        edge_mean = torch.nanmean(x_1, dim=0)\n",
    "        edge_mean[torch.isnan(edge_mean)] = 0\n",
    "\n",
    "        face_mean = torch.nanmean(x_2, dim=0)\n",
    "        face_mean[torch.isnan(face_mean)] = 0\n",
    "\n",
    "        return torch.flatten(node_mean) + torch.flatten(edge_mean) + torch.flatten(face_mean)"
   ]
  },
  {
   "cell_type": "markdown",
   "metadata": {},
   "source": [
    "# Train the Neural Network\n",
    "\n",
    "We specify the model with our pre-made neighborhood structures and specify an optimizer."
   ]
  },
  {
   "cell_type": "code",
   "execution_count": 86,
   "metadata": {
    "ExecuteTime": {
     "end_time": "2023-07-13T20:41:45.845992533Z",
     "start_time": "2023-07-13T20:41:45.791125954Z"
    }
   },
   "outputs": [],
   "source": []
  },
  {
   "cell_type": "markdown",
   "metadata": {},
   "source": [
    "The following cell performs the training, looping over the network for a low number of epochs."
   ]
  },
  {
   "cell_type": "code",
   "execution_count": 43,
   "metadata": {
    "ExecuteTime": {
     "end_time": "2023-07-09T14:00:59.863262668Z",
     "start_time": "2023-07-09T14:00:59.822355680Z"
    }
   },
   "outputs": [],
   "source": []
  }
 ],
 "metadata": {
  "kernelspec": {
   "display_name": "Python 3 (ipykernel)",
   "language": "python",
   "name": "python3"
  },
  "language_info": {
   "codemirror_mode": {
    "name": "ipython",
    "version": 3
   },
   "file_extension": ".py",
   "mimetype": "text/x-python",
   "name": "python",
   "nbconvert_exporter": "python",
   "pygments_lexer": "ipython3",
   "version": "3.9.7"
  }
 },
 "nbformat": 4,
 "nbformat_minor": 4
}
