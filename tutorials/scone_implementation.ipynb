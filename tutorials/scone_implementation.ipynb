{
 "cells": [
  {
   "cell_type": "code",
   "execution_count": 1,
   "metadata": {},
   "outputs": [],
   "source": [
    "import torch\n",
    "import numpy as np\n",
    "import topomodelx.nn as nn\n",
    "from topomodelx.nn import MessagePassingConv\n",
    "from toponetx import SimplicialComplex as sc"
   ]
  },
  {
   "attachments": {},
   "cell_type": "markdown",
   "metadata": {},
   "source": [
    "The first step is to define the topological domain on which the TNN will operate, as well as the neighborhod structures characterizing this domain. We will only define th eneighborhood matrices that we plan on using.\n",
    "\n",
    "Here, we build a simple simplicial complex domain."
   ]
  },
  {
   "cell_type": "code",
   "execution_count": 11,
   "metadata": {},
   "outputs": [],
   "source": [
    "edge_set = [[1, 2], [1, 3]]\n",
    "face_set = [[2, 3, 4], [2, 4, 5]]\n",
    "\n",
    "domain = sc(edge_set + face_set)"
   ]
  },
  {
   "attachments": {},
   "cell_type": "markdown",
   "metadata": {},
   "source": [
    "Now we retrieve the boundary matrix (or incidence matrix) associated to the faces of this complex."
   ]
  },
  {
   "cell_type": "code",
   "execution_count": 12,
   "metadata": {},
   "outputs": [
    {
     "name": "stdout",
     "output_type": "stream",
     "text": [
      "[(1, 2), (1, 3), (2, 3), (2, 4), (2, 5), (3, 4), (4, 5)]\n",
      "[(2, 3, 4), (2, 4, 5)]\n",
      "  (5, 0)\t1.0\n",
      "  (3, 0)\t-1.0\n",
      "  (2, 0)\t1.0\n",
      "  (6, 1)\t1.0\n",
      "  (4, 1)\t-1.0\n",
      "  (3, 1)\t1.0\n"
     ]
    }
   ],
   "source": [
    "row, column, incidence_2 = domain.incidence_matrix(rank=2, index=True)\n",
    "print(row)\n",
    "print(column)\n",
    "print(incidence_2)\n"
   ]
  },
  {
   "attachments": {},
   "cell_type": "markdown",
   "metadata": {},
   "source": [
    "For each rank, the signal on this domain will look like a matrix with shape n_cells_of_rank_r x in_channels, where in_channels is the dimension of each cell's feature. In a a heterogenous domain, in_channels will vary by rank."
   ]
  },
  {
   "cell_type": "code",
   "execution_count": 13,
   "metadata": {},
   "outputs": [
    {
     "name": "stdout",
     "output_type": "stream",
     "text": [
      "2\n",
      "torch.Size([2, 2])\n"
     ]
    }
   ],
   "source": [
    "domain.simplices\n",
    "\n",
    "x_0 = torch.tensor([[1.0, 1.0], [2.0, 2.0], [1.0, 1.0], [4.0, 4.0], [2.0, 2.0]])\n",
    "print(np.array(x_1.shape[1]))\n",
    "x_1 = torch.tensor([[1.0, 1.0], [2.0, 2.0], [1.0, 1.0], [4.0, 4.0], [2.0, 2.0], [1.0, 1.0], [2.0, 2.0]])\n",
    "x_2 = torch.tensor([[1.0, 1.0], [2.0, 2.0]])\n",
    "print(x_2.shape)"
   ]
  },
  {
   "cell_type": "code",
   "execution_count": 14,
   "metadata": {},
   "outputs": [
    {
     "name": "stdout",
     "output_type": "stream",
     "text": [
      "tensor(indices=tensor([[2, 3, 3, 4, 5, 6],\n",
      "                       [0, 0, 1, 1, 0, 1]]),\n",
      "       values=tensor([ 1., -1.,  1., -1.,  1.,  1.]),\n",
      "       size=(7, 2), nnz=6, layout=torch.sparse_coo)\n"
     ]
    }
   ],
   "source": [
    "incidence_2_torch = torch.from_numpy(incidence_2.todense()).to_sparse()\n",
    "print(incidence_2_torch)\n"
   ]
  },
  {
   "cell_type": "code",
   "execution_count": 16,
   "metadata": {},
   "outputs": [
    {
     "name": "stdout",
     "output_type": "stream",
     "text": [
      "torch.Size([2, 2])\n",
      "torch.Size([2, 2])\n",
      "tensor([[ 0.0000,  0.0000],\n",
      "        [ 0.0000,  0.0000],\n",
      "        [-0.1412, -1.8953],\n",
      "        [-0.1412, -1.8953],\n",
      "        [ 0.2825,  3.7905],\n",
      "        [-0.1412, -1.8953],\n",
      "        [-0.2825, -3.7905]], grad_fn=<MmBackward0>)\n"
     ]
    }
   ],
   "source": [
    "channels_face = np.array(x_2.shape[1])\n",
    "channels_edge = np.array(x_1.shape[1])\n",
    "send_face_to_edge = MessagePassingConv(in_channels = channels_face, out_channels = channels_edge)\n",
    "message_face_to_edge = send_face_to_edge(x_2, incidence_2_torch)\n",
    "\n",
    "send_edge_to_face = MessagePassingConv(in_channels=channels_edge, out_channels=channels_face)\n",
    "print(message_face_to_edge)\n"
   ]
  },
  {
   "cell_type": "code",
   "execution_count": null,
   "metadata": {},
   "outputs": [],
   "source": []
  }
 ],
 "metadata": {
  "kernelspec": {
   "display_name": "tmx",
   "language": "python",
   "name": "python3"
  },
  "language_info": {
   "codemirror_mode": {
    "name": "ipython",
    "version": 3
   },
   "file_extension": ".py",
   "mimetype": "text/x-python",
   "name": "python",
   "nbconvert_exporter": "python",
   "pygments_lexer": "ipython3",
   "version": "3.10.11"
  },
  "orig_nbformat": 4
 },
 "nbformat": 4,
 "nbformat_minor": 2
}
